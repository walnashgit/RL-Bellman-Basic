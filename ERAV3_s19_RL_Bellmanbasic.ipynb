{
  "nbformat": 4,
  "nbformat_minor": 0,
  "metadata": {
    "colab": {
      "provenance": [],
      "authorship_tag": "ABX9TyOJxTkeWcd1MXDpsoFMkrSl",
      "include_colab_link": true
    },
    "kernelspec": {
      "name": "python3",
      "display_name": "Python 3"
    },
    "language_info": {
      "name": "python"
    }
  },
  "cells": [
    {
      "cell_type": "markdown",
      "metadata": {
        "id": "view-in-github",
        "colab_type": "text"
      },
      "source": [
        "<a href=\"https://colab.research.google.com/github/walnashgit/RL-Bellman-Basic/blob/main/ERAV3_s19_RL_Bellmanbasic.ipynb\" target=\"_parent\"><img src=\"https://colab.research.google.com/assets/colab-badge.svg\" alt=\"Open In Colab\"/></a>"
      ]
    },
    {
      "cell_type": "code",
      "execution_count": 1,
      "metadata": {
        "id": "VEki-o-tto9J"
      },
      "outputs": [],
      "source": [
        "import numpy as np\n",
        "\n",
        "\n",
        "def value_iteration(threshold=1e-4, gamma=1.0):\n",
        "    grid_size = 4\n",
        "    num_states = grid_size * grid_size\n",
        "    V = np.zeros(num_states)  # Initialize value function to 0 for all states\n",
        "    actions = [(-1, 0), (1, 0), (0, -1), (0, 1)]  # Up, Down, Left, Right\n",
        "\n",
        "    while True:\n",
        "        delta = 0\n",
        "        new_V = np.copy(V)\n",
        "\n",
        "        for state in range(num_states):\n",
        "            if state == num_states - 1:  # Terminal state\n",
        "                continue\n",
        "\n",
        "            row, col = divmod(state, grid_size)\n",
        "            value_sum = 0\n",
        "\n",
        "            for action in actions:\n",
        "                new_row, new_col = row + action[0], col + action[1]\n",
        "\n",
        "                if 0 <= new_row < grid_size and 0 <= new_col < grid_size:\n",
        "                    next_state = new_row * grid_size + new_col\n",
        "                else:\n",
        "                    next_state = state  # If out of bounds, stay in the same state\n",
        "\n",
        "                reward = -1  # Reward for each move\n",
        "                value_sum += (1 / 4) * (reward + gamma * V[next_state])\n",
        "\n",
        "            new_V[state] = value_sum\n",
        "            delta = max(delta, abs(new_V[state] - V[state]))\n",
        "\n",
        "        V = new_V\n",
        "        if delta < threshold:\n",
        "            break\n",
        "\n",
        "    return V.reshape((grid_size, grid_size))\n"
      ]
    },
    {
      "cell_type": "code",
      "source": [
        "  optimal_values = value_iteration()\n",
        "  print(optimal_values)"
      ],
      "metadata": {
        "colab": {
          "base_uri": "https://localhost:8080/"
        },
        "id": "wQTcMuxat5No",
        "outputId": "934748c2-e243-4e50-eaa2-202740a83185"
      },
      "execution_count": 3,
      "outputs": [
        {
          "output_type": "stream",
          "name": "stdout",
          "text": [
            "[[-59.42367735 -57.42387125 -54.2813141  -51.71012579]\n",
            " [-57.42387125 -54.56699476 -49.71029394 -45.13926711]\n",
            " [-54.2813141  -49.71029394 -40.85391609 -29.99766609]\n",
            " [-51.71012579 -45.13926711 -29.99766609   0.        ]]\n"
          ]
        }
      ]
    }
  ]
}